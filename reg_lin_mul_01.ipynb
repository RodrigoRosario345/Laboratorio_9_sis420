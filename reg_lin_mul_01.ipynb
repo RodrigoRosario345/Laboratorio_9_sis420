{
 "cells": [
  {
   "cell_type": "markdown",
   "metadata": {},
   "source": [
    "# Ejercicio de programación Regresión Lineal Multiple"
   ]
  },
  {
   "cell_type": "code",
   "execution_count": 13,
   "metadata": {},
   "outputs": [],
   "source": [
    "# Apelldo y Nombre: Rosario Cruz Rodrigo\n",
    "# Carrera: Ingeniería en Ciencias de la Computación\n",
    "# Materia: Inteligencia Artificial\n",
    "\n",
    "\n",
    "\n",
    "\n",
    "# utilizado para manejos de directorios y rutas\n",
    "import os\n",
    "\n",
    "# Computacion vectorial y cientifica para python\n",
    "import numpy as np\n",
    "\n",
    "import pandas as pd\n",
    "\n",
    "# Librerias para graficación (trazado de gráficos)\n",
    "from matplotlib import pyplot\n",
    "from mpl_toolkits.mplot3d import Axes3D  # Necesario para graficar superficies 3D\n",
    "\n",
    "from sklearn.impute import SimpleImputer\n",
    "\n",
    "from sklearn.preprocessing import LabelEncoder\n",
    "\n",
    "# llama a matplotlib a embeber graficas dentro de los cuadernillos\n",
    "%matplotlib inline"
   ]
  },
  {
   "cell_type": "markdown",
   "metadata": {},
   "source": [
    "## 2 Regresión lineal con multiples variables\n",
    "\n",
    "Se implementa la regresion lineal multivariable para predecir el precio de las casas. El archivo `Datasets/ex1data2.txt` contiene un conjunto de entrenamiento de precios de casas en Portland, Oregon. La primera columna es el tamaño de la casa en metros cuadrados, la segunda columna es el numero de cuartos, y la tercera columna es el precio de la casa. \n",
    "\n",
    "<a id=\"section4\"></a>\n",
    "### 2.1 Normalización de caracteristicas\n",
    "\n",
    "Al visualizar los datos se puede observar que las caracteristicas tienen diferentes magnitudes, por lo cual se debe transformar cada valor en una escala de valores similares, esto con el fin de que el descenso por el gradiente pueda converger mas rapidamente."
   ]
  },
  {
   "cell_type": "code",
   "execution_count": 14,
   "metadata": {},
   "outputs": [
    {
     "name": "stdout",
     "output_type": "stream",
     "text": [
      "[[462809 1 0 22 0 5]\n",
      " [462643 0 1 38 1 2]\n",
      " [466315 0 1 67 1 2]\n",
      " ...\n",
      " [465406 0 0 33 1 5]\n",
      " [467299 0 0 27 1 5]\n",
      " [461879 1 1 37 1 4]]\n",
      "[1. 0. 1. ... 1. 1. 0.]\n"
     ]
    }
   ],
   "source": [
    "# Cargar datos\n",
    "# data = np.loadtxt(os.path.join('Datasets', 'ex1data2.txt'), delimiter=',')\n",
    "# X = data[:, :2]\n",
    "# y = data[:, 2]\n",
    "\n",
    "\n",
    "\n",
    "\n",
    "dataset = pd.read_csv('train.csv')\n",
    "X = dataset.iloc[:, :6].values\n",
    "y = dataset.iloc[:, 6].values\n",
    "\n",
    "m = y.size\n",
    "\n",
    "\n",
    "# imputer = SimpleImputer(missing_values= np.NAN, strategy= 'median', fill_value=None, verbose=0, copy=True) # crear objeto de la clase Imputer para reemplazar los valores faltantes por la media de la columna axis = 0 es para que sea por columnas\n",
    "\n",
    "# imputer = imputer.fit(y[:, 6]) # ajustar el objeto imputer a la matriz de variables independientes x en las columnas 1 y 2 (no incluye el 3)\n",
    "\n",
    "# y[:, 6] = imputer.transform(y[:, 6]) \n",
    "\n",
    "\n",
    "# converirir variables categoricas a numericas\n",
    "\n",
    "LabelEncoder_X = LabelEncoder() # crear objeto de la clase LabelEncoder para codificar las variables categoricas en variables entero (0,1,2,3,4,5,6,7,8,9) en este caso solo hay dos categorias (0,1)\n",
    "\n",
    "X[:, 1] = LabelEncoder_X.fit_transform(X[:, 1]) # codificar las variables categoricas en variables entero (0,1,2,3,4,5,6,7,8,9) en este caso solo hay dos categorias (0,1)\n",
    "\n",
    "LabelEncoder_X = LabelEncoder() # crear objeto de la clase LabelEncoder para codificar las variables categoricas en variables entero (0,1,2,3,4,5,6,7,8,9) en este caso solo hay dos categorias (0,1)\n",
    "\n",
    "X[:, 2] = LabelEncoder_X.fit_transform(X[:, 2])\n",
    "\n",
    "LabelEncoder_X = LabelEncoder() # crear objeto de la clase LabelEncoder para codificar las variables categoricas en variables entero (0,1,2,3,4,5,6,7,8,9) en este caso solo hay dos categorias (0,1)\n",
    "\n",
    "X[:, 4] = LabelEncoder_X.fit_transform(X[:, 4])\n",
    "\n",
    "LabelEncoder_X = LabelEncoder() # crear objeto de la clase LabelEncoder para codificar las variables categoricas en variables entero (0,1,2,3,4,5,6,7,8,9) en este caso solo hay dos categorias (0,1)\n",
    "\n",
    "X[:, 5] = LabelEncoder_X.fit_transform(X[:, 5])\n",
    "\n",
    "\n",
    "print(X)\n",
    "\n",
    "\n",
    "for elemento in  range(m-1):\n",
    "    if y[elemento] != 0 and y[elemento] != 1:\n",
    "        y[elemento] = np.random.randint(0,2)\n",
    "\n",
    "\n",
    "# imprimir algunos puntos de datos\n",
    "# print('{:>8s}{:>8s}{:>10s}'.format('X[:,0]', 'X[:, 1]', 'y'))\n",
    "# print('-'*26)\n",
    "# for i in range(10):\n",
    "#     print('{:8.0f}{:8.0f}{:10.0f}'.format(X[i, 0], X[i, 1], y[i]))\n",
    "\n",
    "print(y)\n"
   ]
  },
  {
   "cell_type": "markdown",
   "metadata": {},
   "source": [
    "La desviación estándar es una forma de medir cuánta variación hay en el rango de valores de una característica en particular (la mayoría de los puntos caeran en un rango de ± 2 en relación a la desviaciones estándar de la media); esta es una alternativa a tomar el rango de valores (max-min). En `numpy`, se puede usar la función `std` para calcular la desviacion estandar. \n",
    "\n",
    "Por ejemplo, la caracteristica`X[:, 0]` contiene todos los valores de $x_1$ (tamaño de las casas) en el conjunto de entrenamiento, entonces `np.std(X[:, 0])` calcula la desviacion estandar de los tamaños de las casas.\n",
    "En el momento en que se llama a la función `featureNormalize`, la columna adicional de unos correspondiente a $ x_0 = 1 $ aún no se ha agregado a $ X $. \n",
    "\n",
    "<div class=\"alert alert-block alert-warning\">\n",
    "**Notas para la implementación:** Cuando se normalize una caracteristica, es importante almacenar los valores usados para la normalización - el valor de la media y el valor de la desviación estandar usado para los calculos. Despues de aprender los parametros del modelo, se deseara predecir los precios de casas que no se han visto antes. Dado un nuevo valor de x (area del living room y el numero de dormitorios), primero se debe normalizar x usando la media y la desviacion estandar que se empleo anteriormente en el conjunto de entrenamiento para entrenar el modelo.\n",
    "</div>\n",
    "<a id=\"featureNormalize\"></a>"
   ]
  },
  {
   "cell_type": "code",
   "execution_count": 15,
   "metadata": {},
   "outputs": [],
   "source": [
    "def  featureNormalize(X):\n",
    "    X = X.astype(float)\n",
    "    X_norm = X.copy()\n",
    "    mu = np.zeros(X.shape[1])\n",
    "    sigma = np.zeros(X.shape[1])\n",
    "\n",
    "    mu = np.mean(X, axis = 0)\n",
    "    sigma = np.std(X, axis = 0)\n",
    "    X_norm = (X - mu) / sigma\n",
    "    \n",
    "    return X_norm, mu, sigma"
   ]
  },
  {
   "cell_type": "code",
   "execution_count": 16,
   "metadata": {},
   "outputs": [
    {
     "name": "stdout",
     "output_type": "stream",
     "text": [
      "[[462809 1 0 22 0 5]\n",
      " [462643 0 1 38 1 2]\n",
      " [466315 0 1 67 1 2]\n",
      " ...\n",
      " [465406 0 0 33 1 5]\n",
      " [467299 0 0 27 1 5]\n",
      " [461879 1 1 37 1 4]]\n",
      "Media calculada: [4.63479215e+05 5.47471492e-01 6.10188399e-01 4.34669063e+01\n",
      " 6.35101636e-01 2.88522558e+00]\n",
      "Desviación estandar calculada: [2.59522038e+03 4.97741356e-01 5.22076167e-01 1.67106606e+01\n",
      " 5.01082024e-01 2.63132325e+00]\n",
      "[[-0.25824957  0.90916397 -1.16877275 -1.28462344 -1.26746043  0.80369237]\n",
      " [-0.32221331 -1.0999116   0.74665657 -0.32715082  0.72822082 -0.33641841]\n",
      " [ 1.09269543 -1.0999116   0.74665657  1.40826831  0.72822082 -0.33641841]\n",
      " ...\n",
      " [ 0.74243616 -1.0999116  -1.16877275 -0.62636101  0.72822082  0.80369237]\n",
      " [ 1.47185398 -1.0999116  -1.16877275 -0.98541324  0.72822082  0.80369237]\n",
      " [-0.61660064  0.90916397  0.74665657 -0.38699286  0.72822082  0.42365544]]\n"
     ]
    }
   ],
   "source": [
    "# llama featureNormalize con los datos cargados\n",
    "X_norm, mu, sigma = featureNormalize(X)\n",
    "\n",
    "print(X)\n",
    "print('Media calculada:', mu)\n",
    "print('Desviación estandar calculada:', sigma)\n",
    "print(X_norm)"
   ]
  },
  {
   "cell_type": "markdown",
   "metadata": {},
   "source": [
    "Despues de `featureNormalize` la funcion es provada, se añade el temino de interseccion a `X_norm`:"
   ]
  },
  {
   "cell_type": "code",
   "execution_count": 17,
   "metadata": {},
   "outputs": [],
   "source": [
    "# Añade el termino de interseccion a X\n",
    "# (Columna de unos para X0)\n",
    "X = np.concatenate([np.ones((m, 1)), X_norm], axis=1)"
   ]
  },
  {
   "cell_type": "code",
   "execution_count": 18,
   "metadata": {},
   "outputs": [
    {
     "name": "stdout",
     "output_type": "stream",
     "text": [
      "[[ 1.         -0.25824957  0.90916397 ... -1.28462344 -1.26746043\n",
      "   0.80369237]\n",
      " [ 1.         -0.32221331 -1.0999116  ... -0.32715082  0.72822082\n",
      "  -0.33641841]\n",
      " [ 1.          1.09269543 -1.0999116  ...  1.40826831  0.72822082\n",
      "  -0.33641841]\n",
      " ...\n",
      " [ 1.          0.74243616 -1.0999116  ... -0.62636101  0.72822082\n",
      "   0.80369237]\n",
      " [ 1.          1.47185398 -1.0999116  ... -0.98541324  0.72822082\n",
      "   0.80369237]\n",
      " [ 1.         -0.61660064  0.90916397 ... -0.38699286  0.72822082\n",
      "   0.42365544]]\n"
     ]
    }
   ],
   "source": [
    "print(X)"
   ]
  },
  {
   "cell_type": "markdown",
   "metadata": {},
   "source": [
    "<a id=\"section5\"></a>\n",
    "### 2.2 Descenso por el gradiente\n",
    "\n",
    "En el ejemplo anterior se implemento el descenso por el gradiente para un problema de regresion univariable. La unica diferencia es que ahora existe una caracteristica adicional en la matriz $X$. La función de hipótesis y la regla de actualización del descenso del gradiente por lotes permanecen sin cambios.\n",
    "\n",
    "La implementacion de las funciones `computeCostMulti` y `gradientDescentMulti` son similares a la funcion de costo y función de descenso por el gradiente de la regresión lineal multiple es similar al de la regresion lineal multivariable. Es importante garantizar que el codigo soporte cualquier numero de caracteristicas y esten bien vectorizadas.\n",
    "\n",
    "Se puede utilizar `shape`, propiedad de los arrays `numpy`, para identificar cuantas caracteristicas estan consideradas en el dataset.\n",
    "\n",
    "<div class=\"alert alert-block alert-warning\">\n",
    "**Nota de implementación:** En el caso de multivariables, la función de costo puede se escrita considerando la forma vectorizada de la siguiente manera:\n",
    "\n",
    "$$ J(\\theta) = \\frac{1}{2m}(X\\theta - \\vec{y})^T(X\\theta - \\vec{y}) $$\n",
    "\n",
    "donde:\n",
    "\n",
    "$$ X = \\begin{pmatrix}\n",
    "          - (x^{(1)})^T - \\\\\n",
    "          - (x^{(2)})^T - \\\\\n",
    "          \\vdots \\\\\n",
    "          - (x^{(m)})^T - \\\\ \\\\\n",
    "        \\end{pmatrix} \\qquad \\mathbf{y} = \\begin{bmatrix} y^{(1)} \\\\ y^{(2)} \\\\ \\vdots \\\\ y^{(m)} \\\\\\end{bmatrix}$$\n",
    "\n",
    "La version vectorizada es eficiente cuando se trabaja con herramientas de calculo numericos computacional como `numpy`. \n",
    "</div>\n",
    "\n",
    "<a id=\"computeCostMulti\"></a>"
   ]
  },
  {
   "cell_type": "code",
   "execution_count": 19,
   "metadata": {},
   "outputs": [],
   "source": [
    "def computeCostMulti(X, y, theta):\n",
    "    # Inicializa algunos valores utiles\n",
    "    m = y.shape[0] # numero de ejemplos de entrenamiento\n",
    "    \n",
    "    J = 0\n",
    "    \n",
    "    h = np.dot(X, theta)\n",
    "    \n",
    "    J = (1/(2 * m)) * np.sum(np.square(np.dot(X, theta) - y))\n",
    "    \n",
    "    return J\n"
   ]
  },
  {
   "cell_type": "code",
   "execution_count": 20,
   "metadata": {},
   "outputs": [],
   "source": [
    "def gradientDescentMulti(X, y, theta, alpha, num_iters):\n",
    "    \n",
    "    # Inicializa algunos valores \n",
    "    m = y.shape[0] # numero de ejemplos de entrenamiento\n",
    "    \n",
    "    # realiza una copia de theta, el cual será acutalizada por el descenso por el gradiente\n",
    "    theta = theta.copy()\n",
    "    \n",
    "    J_history = []\n",
    "    \n",
    "    for i in range(num_iters):\n",
    "        theta = theta - (alpha / m) * (np.dot(X, theta) - y).dot(X)\n",
    "        J_history.append(computeCostMulti(X, y, theta))\n",
    "    \n",
    "    return theta, J_history"
   ]
  },
  {
   "cell_type": "markdown",
   "metadata": {},
   "source": [
    "#### 3.2.1 Seleccionando coheficientes de aprendizaje\n"
   ]
  },
  {
   "cell_type": "code",
   "execution_count": 21,
   "metadata": {},
   "outputs": [
    {
     "name": "stdout",
     "output_type": "stream",
     "text": [
      "[0. 0. 0. 0. 0. 0. 0.]\n",
      "theta calculado por el descenso por el gradiente: [ 0.49938027 -0.01117804  0.00947295  0.00152419  0.010896    0.00212913\n",
      " -0.00224447]\n",
      "El precio predecido para una casa de 1650 sq-ft y 3 dormitorios (usando el descenso por el gradiente): $0\n"
     ]
    },
    {
     "data": {
      "image/png": "[encoded data removed]",
      "text/plain": [
       "<Figure size 640x480 with 1 Axes>"
      ]
     },
     "metadata": {},
     "output_type": "display_data"
    }
   ],
   "source": [
    "# Elegir algun valor para alpha (probar varias alternativas)\n",
    "alpha = 0.01\n",
    "num_iters = 10000\n",
    "\n",
    "# inicializa theta y ejecuta el descenso por el gradiente\n",
    "theta = np.zeros(7)\n",
    "print(theta)\n",
    "theta, J_history = gradientDescentMulti(X, y, theta, alpha, num_iters)\n",
    "\n",
    "# Grafica la convergencia del costo\n",
    "pyplot.plot(np.arange(len(J_history)), J_history, lw=2)\n",
    "pyplot.xlabel('Numero de iteraciones')\n",
    "pyplot.ylabel('Costo J')\n",
    "\n",
    "# Muestra los resultados del descenso por el gradiente\n",
    "print('theta calculado por el descenso por el gradiente: {:s}'.format(str(theta)))\n",
    "\n",
    "# Estimar el precio para una casa de 1650 sq-ft, con 3 dormitorios\n",
    "X_array = [1, 462643, 0, 1, 38, 1, 2]\n",
    "X_array[1:7] = (X_array[1:7] - mu) / sigma\n",
    "price = np.dot(X_array, theta)   # Se debe cambiar esto\n",
    "\n",
    "print('El precio predecido para una casa de 1650 sq-ft y 3 dormitorios (usando el descenso por el gradiente): ${:.0f}'.format(price))"
   ]
  },
  {
   "cell_type": "code",
   "execution_count": 22,
   "metadata": {},
   "outputs": [],
   "source": [
    "X_array = [1, 462643, 0, 1, 38, 1, 2]\n",
    "X_array[1:7] = (X_array[1:7] - mu) / sigma"
   ]
  },
  {
   "cell_type": "code",
   "execution_count": 23,
   "metadata": {},
   "outputs": [
    {
     "data": {
      "text/plain": [
       "[-0.3222133106360962, -1.0999116022348152]"
      ]
     },
     "execution_count": 23,
     "metadata": {},
     "output_type": "execute_result"
    }
   ],
   "source": [
    "X_array[1:3]"
   ]
  },
  {
   "cell_type": "markdown",
   "metadata": {},
   "source": [
    "<a id=\"section7\"></a>\n",
    "### 2.3 Ecuacion de la Normal\n",
    "\n",
    "Una manera de calcular rapidamente el modelo de una regresion lineal es:\n",
    "\n",
    "$$ \\theta = \\left( X^T X\\right)^{-1} X^T\\vec{y}$$\n",
    "\n",
    "Utilizando esta formula no requiere que se escale ninguna caracteristica, y se obtendra una solucion exacta con un solo calculo: no hay “bucles de convergencia” como en el descenso por el gradiente. \n",
    "\n",
    "Primero se recargan los datos para garantizar que las variables no esten modificadas. Recordar que no es necesario escalar las caracteristicas, se debe agregar la columna de unos a la matriz $X$ para tener el termino de intersección($\\theta_0$). "
   ]
  },
  {
   "cell_type": "code",
   "execution_count": 24,
   "metadata": {},
   "outputs": [],
   "source": [
    "# # Cargar datos\n",
    "# data = np.loadtxt(os.path.join('Datasets', 'ex1data2.txt'), delimiter=',')\n",
    "# X = data[:, :2]\n",
    "# y = data[:, 2]\n",
    "# m = y.size\n",
    "# X = np.concatenate([np.ones((m, 1)), X], axis=1)"
   ]
  },
  {
   "cell_type": "code",
   "execution_count": 25,
   "metadata": {},
   "outputs": [],
   "source": [
    "# def normalEqn(X, y):\n",
    "  \n",
    "#     theta = np.zeros(X.shape[1])\n",
    "    \n",
    "#     theta = np.dot(np.dot(np.linalg.inv(np.dot(X.T,X)),X.T),y)\n",
    "    \n",
    "#     return theta"
   ]
  },
  {
   "cell_type": "code",
   "execution_count": 26,
   "metadata": {},
   "outputs": [],
   "source": [
    "# # Calcula los parametros con la ecuación de la normal\n",
    "# theta = normalEqn(X, y);\n",
    "\n",
    "# # Muestra los resultados optenidos a partir de la aplicación de la ecuación de la normal\n",
    "# print('Theta calculado a partir de la ecuación de la normal: {:s}'.format(str(theta)));\n",
    "\n",
    "# # Estimar el precio para una casa de superficie de 1650 sq-ft y tres dormitorios\n",
    "\n",
    "# X_array = [1, 1650, 3]\n",
    "# price = np.dot(X_array, theta) \n",
    "\n",
    "# print('Precio predecido para una cada de superficie de 1650 sq-ft y 3 dormitorios (usando la ecuación de la normal): ${:.0f}'.format(price))"
   ]
  }
 ],
 "metadata": {
  "kernelspec": {
   "display_name": "Python 3.10.5 64-bit",
   "language": "python",
   "name": "python3"
  },
  "language_info": {
   "codemirror_mode": {
    "name": "ipython",
    "version": 3
   },
   "file_extension": ".py",
   "mimetype": "text/x-python",
   "name": "python",
   "nbconvert_exporter": "python",
   "pygments_lexer": "ipython3",
   "version": "3.10.5"
  },
  "vscode": {
   "interpreter": {
    "hash": "a9cff5a362bc38ef45d817ae74b1af54d6a076e3d773891282bce078b815ba34"
   }
  }
 },
 "nbformat": 4,
 "nbformat_minor": 2
}
